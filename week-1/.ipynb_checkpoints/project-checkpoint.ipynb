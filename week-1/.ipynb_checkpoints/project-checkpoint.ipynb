{
 "cells": [
  {
   "cell_type": "code",
   "execution_count": 4,
   "id": "8e563ff1-af80-48f6-844a-ebb3f806fce1",
   "metadata": {},
   "outputs": [
    {
     "name": "stdin",
     "output_type": "stream",
     "text": [
      "Enter principal 1\n",
      "Enter rate 2\n",
      "Enter time 3\n"
     ]
    },
    {
     "name": "stdout",
     "output_type": "stream",
     "text": [
      "The total amount is 1.06\n"
     ]
    },
    {
     "name": "stdin",
     "output_type": "stream",
     "text": [
      "Enter principal 4\n",
      "Enter rate 5\n",
      "Enter n value 6\n",
      "Enter t value 7\n"
     ]
    },
    {
     "name": "stdout",
     "output_type": "stream",
     "text": [
      "The total amount is 455197902131.24677\n"
     ]
    },
    {
     "name": "stdin",
     "output_type": "stream",
     "text": [
      "Enter PMT value 8\n",
      "Enter rate 9\n",
      "Enter n value 10\n",
      "Enter t value 11\n"
     ]
    },
    {
     "name": "stdout",
     "output_type": "stream",
     "text": [
      "The total amount is 4.090190939689434e+31\n"
     ]
    }
   ],
   "source": [
    "# simple interest\n",
    "P = int(input('Enter principal'))\n",
    "R = int(input('Enter rate'))\n",
    "T = int(input('Enter time'))\n",
    "A1 = P*(1+(R/100)*T)\n",
    "print(\"The total amount is\", A1)\n",
    "\n",
    "# compound interest\n",
    "P = int(input('Enter principal'))\n",
    "R = int(input('Enter rate'))\n",
    "n = int(input('Enter n value'))\n",
    "t = int(input('Enter t value'))\n",
    "A2 = P*(1+(R/n))**(n*t)\n",
    "print(\"The total amount is\", A2)\n",
    "\n",
    "# annuity plan\n",
    "PMT = int(input('Enter PMT value'))\n",
    "R = int(input('Enter rate'))\n",
    "n = int(input('Enter n value'))\n",
    "t = int(input('Enter t value'))\n",
    "A3 = PMT * (((1+(R/n))**(n*t)-1)/(R/n))\n",
    "print(\"The total amount is\", A3)"
   ]
  },
  {
   "cell_type": "code",
   "execution_count": null,
   "id": "64cc7eb1-a80e-48f3-85cf-01f57a567cc3",
   "metadata": {},
   "outputs": [],
   "source": []
  }
 ],
 "metadata": {
  "kernelspec": {
   "display_name": "Python 3 (ipykernel)",
   "language": "python",
   "name": "python3"
  },
  "language_info": {
   "codemirror_mode": {
    "name": "ipython",
    "version": 3
   },
   "file_extension": ".py",
   "mimetype": "text/x-python",
   "name": "python",
   "nbconvert_exporter": "python",
   "pygments_lexer": "ipython3",
   "version": "3.11.7"
  }
 },
 "nbformat": 4,
 "nbformat_minor": 5
}
